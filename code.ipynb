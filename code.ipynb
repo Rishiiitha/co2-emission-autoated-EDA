{
 "cells": [
  {
   "cell_type": "code",
   "execution_count": 2,
   "id": "fd14059a",
   "metadata": {},
   "outputs": [
    {
     "name": "stdout",
     "output_type": "stream",
     "text": [
      "Requirement already satisfied: ydata-profiling in d:\\anaconda\\envs\\venv\\lib\\site-packages (4.16.1)\n",
      "Requirement already satisfied: scipy<1.16,>=1.4.1 in d:\\anaconda\\envs\\venv\\lib\\site-packages (from ydata-profiling) (1.15.3)\n",
      "Requirement already satisfied: pandas!=1.4.0,<3.0,>1.1 in d:\\anaconda\\envs\\venv\\lib\\site-packages (from ydata-profiling) (2.3.1)\n",
      "Requirement already satisfied: matplotlib<=3.10,>=3.5 in d:\\anaconda\\envs\\venv\\lib\\site-packages (from ydata-profiling) (3.10.0)\n",
      "Requirement already satisfied: pydantic>=2 in d:\\anaconda\\envs\\venv\\lib\\site-packages (from ydata-profiling) (2.11.7)\n",
      "Requirement already satisfied: PyYAML<6.1,>=5.0.0 in d:\\anaconda\\envs\\venv\\lib\\site-packages (from ydata-profiling) (6.0.2)\n",
      "Requirement already satisfied: jinja2<3.2,>=2.11.1 in d:\\anaconda\\envs\\venv\\lib\\site-packages (from ydata-profiling) (3.1.6)\n",
      "Requirement already satisfied: visions<0.8.2,>=0.7.5 in d:\\anaconda\\envs\\venv\\lib\\site-packages (from visions[type_image_path]<0.8.2,>=0.7.5->ydata-profiling) (0.8.1)\n",
      "Requirement already satisfied: numpy<2.2,>=1.16.0 in d:\\anaconda\\envs\\venv\\lib\\site-packages (from ydata-profiling) (2.1.3)\n",
      "Requirement already satisfied: htmlmin==0.1.12 in d:\\anaconda\\envs\\venv\\lib\\site-packages (from ydata-profiling) (0.1.12)\n",
      "Requirement already satisfied: phik<0.13,>=0.11.1 in d:\\anaconda\\envs\\venv\\lib\\site-packages (from ydata-profiling) (0.12.5)\n",
      "Requirement already satisfied: requests<3,>=2.24.0 in d:\\anaconda\\envs\\venv\\lib\\site-packages (from ydata-profiling) (2.32.5)\n",
      "Requirement already satisfied: tqdm<5,>=4.48.2 in d:\\anaconda\\envs\\venv\\lib\\site-packages (from ydata-profiling) (4.67.1)\n",
      "Requirement already satisfied: seaborn<0.14,>=0.10.1 in d:\\anaconda\\envs\\venv\\lib\\site-packages (from ydata-profiling) (0.13.2)\n",
      "Requirement already satisfied: multimethod<2,>=1.4 in d:\\anaconda\\envs\\venv\\lib\\site-packages (from ydata-profiling) (1.12)\n",
      "Requirement already satisfied: statsmodels<1,>=0.13.2 in d:\\anaconda\\envs\\venv\\lib\\site-packages (from ydata-profiling) (0.14.5)\n",
      "Requirement already satisfied: typeguard<5,>=3 in d:\\anaconda\\envs\\venv\\lib\\site-packages (from ydata-profiling) (4.4.4)\n",
      "Requirement already satisfied: imagehash==4.3.1 in d:\\anaconda\\envs\\venv\\lib\\site-packages (from ydata-profiling) (4.3.1)\n",
      "Requirement already satisfied: wordcloud>=1.9.3 in d:\\anaconda\\envs\\venv\\lib\\site-packages (from ydata-profiling) (1.9.4)\n",
      "Requirement already satisfied: dacite>=1.8 in d:\\anaconda\\envs\\venv\\lib\\site-packages (from ydata-profiling) (1.9.2)\n",
      "Requirement already satisfied: numba<=0.61,>=0.56.0 in d:\\anaconda\\envs\\venv\\lib\\site-packages (from ydata-profiling) (0.61.0)\n",
      "Requirement already satisfied: PyWavelets in d:\\anaconda\\envs\\venv\\lib\\site-packages (from imagehash==4.3.1->ydata-profiling) (1.9.0)\n",
      "Requirement already satisfied: pillow in d:\\anaconda\\envs\\venv\\lib\\site-packages (from imagehash==4.3.1->ydata-profiling) (11.3.0)\n",
      "Requirement already satisfied: MarkupSafe>=2.0 in d:\\anaconda\\envs\\venv\\lib\\site-packages (from jinja2<3.2,>=2.11.1->ydata-profiling) (3.0.2)\n",
      "Requirement already satisfied: contourpy>=1.0.1 in d:\\anaconda\\envs\\venv\\lib\\site-packages (from matplotlib<=3.10,>=3.5->ydata-profiling) (1.3.3)\n",
      "Requirement already satisfied: cycler>=0.10 in d:\\anaconda\\envs\\venv\\lib\\site-packages (from matplotlib<=3.10,>=3.5->ydata-profiling) (0.12.1)\n",
      "Requirement already satisfied: fonttools>=4.22.0 in d:\\anaconda\\envs\\venv\\lib\\site-packages (from matplotlib<=3.10,>=3.5->ydata-profiling) (4.59.0)\n",
      "Requirement already satisfied: kiwisolver>=1.3.1 in d:\\anaconda\\envs\\venv\\lib\\site-packages (from matplotlib<=3.10,>=3.5->ydata-profiling) (1.4.9)\n",
      "Requirement already satisfied: packaging>=20.0 in d:\\anaconda\\envs\\venv\\lib\\site-packages (from matplotlib<=3.10,>=3.5->ydata-profiling) (25.0)\n",
      "Requirement already satisfied: pyparsing>=2.3.1 in d:\\anaconda\\envs\\venv\\lib\\site-packages (from matplotlib<=3.10,>=3.5->ydata-profiling) (3.2.3)\n",
      "Requirement already satisfied: python-dateutil>=2.7 in d:\\anaconda\\envs\\venv\\lib\\site-packages (from matplotlib<=3.10,>=3.5->ydata-profiling) (2.9.0.post0)\n",
      "Requirement already satisfied: llvmlite<0.45,>=0.44.0dev0 in d:\\anaconda\\envs\\venv\\lib\\site-packages (from numba<=0.61,>=0.56.0->ydata-profiling) (0.44.0)\n",
      "Requirement already satisfied: pytz>=2020.1 in d:\\anaconda\\envs\\venv\\lib\\site-packages (from pandas!=1.4.0,<3.0,>1.1->ydata-profiling) (2025.2)\n",
      "Requirement already satisfied: tzdata>=2022.7 in d:\\anaconda\\envs\\venv\\lib\\site-packages (from pandas!=1.4.0,<3.0,>1.1->ydata-profiling) (2025.2)\n",
      "Requirement already satisfied: joblib>=0.14.1 in d:\\anaconda\\envs\\venv\\lib\\site-packages (from phik<0.13,>=0.11.1->ydata-profiling) (1.5.1)\n",
      "Requirement already satisfied: charset_normalizer<4,>=2 in d:\\anaconda\\envs\\venv\\lib\\site-packages (from requests<3,>=2.24.0->ydata-profiling) (3.4.3)\n",
      "Requirement already satisfied: idna<4,>=2.5 in d:\\anaconda\\envs\\venv\\lib\\site-packages (from requests<3,>=2.24.0->ydata-profiling) (3.10)\n",
      "Requirement already satisfied: urllib3<3,>=1.21.1 in d:\\anaconda\\envs\\venv\\lib\\site-packages (from requests<3,>=2.24.0->ydata-profiling) (2.5.0)\n",
      "Requirement already satisfied: certifi>=2017.4.17 in d:\\anaconda\\envs\\venv\\lib\\site-packages (from requests<3,>=2.24.0->ydata-profiling) (2025.8.3)\n",
      "Requirement already satisfied: patsy>=0.5.6 in d:\\anaconda\\envs\\venv\\lib\\site-packages (from statsmodels<1,>=0.13.2->ydata-profiling) (1.0.1)\n",
      "Requirement already satisfied: colorama in d:\\anaconda\\envs\\venv\\lib\\site-packages (from tqdm<5,>=4.48.2->ydata-profiling) (0.4.6)\n",
      "Requirement already satisfied: typing_extensions>=4.14.0 in d:\\anaconda\\envs\\venv\\lib\\site-packages (from typeguard<5,>=3->ydata-profiling) (4.14.1)\n",
      "Requirement already satisfied: attrs>=19.3.0 in d:\\anaconda\\envs\\venv\\lib\\site-packages (from visions<0.8.2,>=0.7.5->visions[type_image_path]<0.8.2,>=0.7.5->ydata-profiling) (25.3.0)\n",
      "Requirement already satisfied: networkx>=2.4 in d:\\anaconda\\envs\\venv\\lib\\site-packages (from visions<0.8.2,>=0.7.5->visions[type_image_path]<0.8.2,>=0.7.5->ydata-profiling) (3.5)\n",
      "Requirement already satisfied: puremagic in d:\\anaconda\\envs\\venv\\lib\\site-packages (from visions<0.8.2,>=0.7.5->visions[type_image_path]<0.8.2,>=0.7.5->ydata-profiling) (1.30)\n",
      "Requirement already satisfied: annotated-types>=0.6.0 in d:\\anaconda\\envs\\venv\\lib\\site-packages (from pydantic>=2->ydata-profiling) (0.7.0)\n",
      "Requirement already satisfied: pydantic-core==2.33.2 in d:\\anaconda\\envs\\venv\\lib\\site-packages (from pydantic>=2->ydata-profiling) (2.33.2)\n",
      "Requirement already satisfied: typing-inspection>=0.4.0 in d:\\anaconda\\envs\\venv\\lib\\site-packages (from pydantic>=2->ydata-profiling) (0.4.1)\n",
      "Requirement already satisfied: six>=1.5 in d:\\anaconda\\envs\\venv\\lib\\site-packages (from python-dateutil>=2.7->matplotlib<=3.10,>=3.5->ydata-profiling) (1.17.0)\n"
     ]
    }
   ],
   "source": [
    "!pip install ydata-profiling"
   ]
  },
  {
   "cell_type": "code",
   "execution_count": 3,
   "id": "a201c0ca",
   "metadata": {},
   "outputs": [
    {
     "name": "stderr",
     "output_type": "stream",
     "text": [
      "d:\\anaconda\\envs\\venv\\Lib\\site-packages\\tqdm\\auto.py:21: TqdmWarning: IProgress not found. Please update jupyter and ipywidgets. See https://ipywidgets.readthedocs.io/en/stable/user_install.html\n",
      "  from .autonotebook import tqdm as notebook_tqdm\n"
     ]
    },
    {
     "data": {
      "text/html": [
       "\n",
       "            <div>\n",
       "                <ins><a href=\"https://ydata.ai/register\">Upgrade to ydata-sdk</a></ins>\n",
       "                <p>\n",
       "                    Improve your data and profiling with ydata-sdk, featuring data quality scoring, redundancy detection, outlier identification, text validation, and synthetic data generation.\n",
       "                </p>\n",
       "            </div>\n",
       "            "
      ],
      "text/plain": [
       "<IPython.core.display.HTML object>"
      ]
     },
     "metadata": {},
     "output_type": "display_data"
    }
   ],
   "source": [
    "from ydata_profiling import ProfileReport\n",
    "\n"
   ]
  },
  {
   "cell_type": "code",
   "execution_count": 4,
   "id": "afaa0da2",
   "metadata": {},
   "outputs": [],
   "source": [
    "import os, re, warnings, math\n",
    "import numpy as np\n",
    "import pandas as pd\n",
    "import matplotlib.pyplot as plt\n",
    "import seaborn as sns\n",
    "\n",
    "warnings.filterwarnings(\"ignore\")\n",
    "pd.set_option(\"display.max_columns\", 200)\n",
    "sns.set_theme(context=\"notebook\", style=\"whitegrid\")"
   ]
  },
  {
   "cell_type": "code",
   "execution_count": 5,
   "id": "e0560078",
   "metadata": {},
   "outputs": [],
   "source": [
    "REPORT_DIR = \"eda_report\"\n",
    "os.makedirs(REPORT_DIR, exist_ok=True)\n",
    "\n",
    "def savefig(name):\n",
    "    path = os.path.join(REPORT_DIR, f\"{name}.png\")\n",
    "    plt.tight_layout()\n",
    "    plt.savefig(path, dpi=140, bbox_inches=\"tight\")\n",
    "    print(f\" Saved: {path}\")"
   ]
  },
  {
   "cell_type": "code",
   "execution_count": 6,
   "id": "3f5990f3",
   "metadata": {},
   "outputs": [],
   "source": [
    "df = pd.read_csv(\"CO2 Emissions_Canada.csv\")"
   ]
  },
  {
   "cell_type": "code",
   "execution_count": 7,
   "id": "d8fb84fe",
   "metadata": {},
   "outputs": [
    {
     "name": "stdout",
     "output_type": "stream",
     "text": [
      " Cleaned columns: ['make', 'model', 'vehicle_class', 'engine_size_l_', 'cylinders', 'transmission', 'fuel_type', 'fuel_consumption_city_l_100_km_', 'fuel_consumption_hwy_l_100_km_', 'fuel_consumption_comb_l_100_km_', 'fuel_consumption_comb_mpg_', 'co2_emissions_g_km_']\n"
     ]
    }
   ],
   "source": [
    "def to_snake(name: str) -> str:\n",
    "    name = name.strip()\n",
    "    name = re.sub(r\"[^\\w\\s]\", \" \", name)      # replace punctuation with space\n",
    "    name = re.sub(r\"\\s+\", \"_\", name)          # collapse spaces to underscores\n",
    "    return name.lower()\n",
    "\n",
    "df.columns = [to_snake(c) for c in df.columns]\n",
    "print(\" Cleaned columns:\", list(df.columns))"
   ]
  },
  {
   "cell_type": "code",
   "execution_count": 8,
   "id": "a01480be",
   "metadata": {},
   "outputs": [
    {
     "name": "stdout",
     "output_type": "stream",
     "text": [
      "\n",
      "Shape: (7385, 12)\n",
      "\n",
      "Dtypes:\n",
      " make                                object\n",
      "model                               object\n",
      "vehicle_class                       object\n",
      "engine_size_l_                     float64\n",
      "cylinders                            int64\n",
      "transmission                        object\n",
      "fuel_type                           object\n",
      "fuel_consumption_city_l_100_km_    float64\n",
      "fuel_consumption_hwy_l_100_km_     float64\n",
      "fuel_consumption_comb_l_100_km_    float64\n",
      "fuel_consumption_comb_mpg_           int64\n",
      "co2_emissions_g_km_                  int64\n",
      "dtype: object\n",
      "\n",
      "Memory usage (MB): 2.47\n",
      "Saved preview_head.csv and preview_tail.csv\n"
     ]
    }
   ],
   "source": [
    "print(\"\\nShape:\", df.shape)\n",
    "print(\"\\nDtypes:\\n\", df.dtypes)\n",
    "print(\"\\nMemory usage (MB):\", round(df.memory_usage(deep=True).sum() / 1e6, 2))\n",
    "\n",
    "# Save head/tail/info\n",
    "df.head(10).to_csv(os.path.join(REPORT_DIR, \"preview_head.csv\"), index=False)\n",
    "df.tail(10).to_csv(os.path.join(REPORT_DIR, \"preview_tail.csv\"), index=False)\n",
    "print(\"Saved preview_head.csv and preview_tail.csv\")"
   ]
  },
  {
   "cell_type": "code",
   "execution_count": 9,
   "id": "fa716722",
   "metadata": {},
   "outputs": [],
   "source": [
    "for col in df.columns:\n",
    "    if df[col].dtype == \"object\":\n",
    "        # strip units and commas if they exist\n",
    "        cleaned = (df[col]\n",
    "                   .astype(str)\n",
    "                   .str.replace(\",\", \"\", regex=False)\n",
    "                   .str.replace(r\"[^\\d\\.\\-eE+]\", \"\", regex=True))\n",
    "        # convert where reasonable\n",
    "        maybe_num = pd.to_numeric(cleaned, errors=\"coerce\")\n",
    "        # only adopt if we meaningfully converted more than we lost\n",
    "        if maybe_num.notna().sum() >= max(10, int(0.3 * len(df))):\n",
    "            df[col] = maybe_num"
   ]
  },
  {
   "cell_type": "code",
   "execution_count": 10,
   "id": "2dd0bb1c",
   "metadata": {},
   "outputs": [],
   "source": [
    "num_cols = [c for c in df.columns if pd.api.types.is_numeric_dtype(df[c])]\n",
    "#cat_cols = [c for c in df.columns if c not in num_cols and df[c].dtype.name != \"datetime64[ns]\"]\n",
    "\n",
    "\n"
   ]
  },
  {
   "cell_type": "code",
   "execution_count": 11,
   "id": "3e32b46d",
   "metadata": {},
   "outputs": [
    {
     "name": "stdout",
     "output_type": "stream",
     "text": [
      " Saved: eda_report\\dist_engine_size_l_.png\n",
      " Saved: eda_report\\dist_cylinders.png\n",
      " Saved: eda_report\\dist_transmission.png\n",
      " Saved: eda_report\\dist_fuel_consumption_city_l_100_km_.png\n",
      " Saved: eda_report\\dist_fuel_consumption_hwy_l_100_km_.png\n",
      " Saved: eda_report\\dist_fuel_consumption_comb_l_100_km_.png\n",
      " Saved: eda_report\\dist_fuel_consumption_comb_mpg_.png\n",
      " Saved: eda_report\\dist_co2_emissions_g_km_.png\n"
     ]
    }
   ],
   "source": [
    "max_hists = min(12, len(num_cols))\n",
    "for col in num_cols[:max_hists]:\n",
    "    plt.figure(figsize=(6,4))\n",
    "    sns.histplot(df[col].dropna(), bins=30, kde=True)\n",
    "    plt.title(f\"Distribution: {col}\")\n",
    "    savefig(f\"dist_{col}\")\n",
    "    plt.close()"
   ]
  },
  {
   "cell_type": "code",
   "execution_count": 12,
   "id": "f2871180",
   "metadata": {},
   "outputs": [
    {
     "name": "stdout",
     "output_type": "stream",
     "text": [
      " Saved: eda_report\\corr_heatmap.png\n",
      "Saved: correlation_pearson.csv & corr_heatmap.png\n"
     ]
    }
   ],
   "source": [
    "if len(num_cols) >= 2:\n",
    "    corr = df[num_cols].corr(numeric_only=True, method=\"pearson\")\n",
    "    corr.to_csv(os.path.join(REPORT_DIR, \"correlation_pearson.csv\"))\n",
    "    plt.figure(figsize=(min(12, 0.6*len(num_cols)+4), min(10, 0.6*len(num_cols)+4)))\n",
    "    sns.heatmap(corr, annot=False, cmap=\"viridis\", center=0)\n",
    "    plt.title(\"Correlation Heatmap (Pearson)\")\n",
    "    savefig(\"corr_heatmap\")\n",
    "    plt.close()\n",
    "    print(\"Saved: correlation_pearson.csv & corr_heatmap.png\")\n"
   ]
  },
  {
   "cell_type": "code",
   "execution_count": 13,
   "id": "ef537dd3",
   "metadata": {},
   "outputs": [
    {
     "name": "stdout",
     "output_type": "stream",
     "text": [
      "\n",
      "ℹ No obvious CO2 target column found. Skipping target-aware plots.\n"
     ]
    }
   ],
   "source": [
    "possible_targets = [\n",
    "    \"co2_emissions_g_km\", \"co2_emissions_g_per_km\", \"co2_emissions_gkm\",\n",
    "    \"co2_emissions\", \"co2_emissions_g/_km\", \"co2_emissions(g/km)\".replace(\"(\", \"_\").replace(\")\", \"\").replace(\"/\", \"_\").lower()\n",
    "]\n",
    "target_col = None\n",
    "for cand in possible_targets:\n",
    "    if cand in df.columns:\n",
    "        target_col = cand\n",
    "        break\n",
    "\n",
    "if target_col:\n",
    "    print(f\"\\nDetected target column: {target_col}\")\n",
    "    # scatter vs top correlated numeric features\n",
    "    if len(num_cols) > 1:\n",
    "        corrs = df[num_cols].corr(numeric_only=True)[target_col].dropna().abs().sort_values(ascending=False)\n",
    "        for feat in [c for c in corrs.index if c != target_col][:6]:\n",
    "            plt.figure(figsize=(6,4))\n",
    "            sns.scatterplot(x=df[feat], y=df[target_col], alpha=0.5)\n",
    "            plt.title(f\"{target_col} vs {feat}\")\n",
    "            savefig(f\"target_scatter_{target_col}_vs_{feat}\")\n",
    "            plt.close()\n",
    "\n",
    "else:\n",
    "    print(\"\\nℹ No obvious CO2 target column found. Skipping target-aware plots.\")\n",
    "\n"
   ]
  },
  {
   "cell_type": "code",
   "execution_count": 14,
   "id": "31d23a55",
   "metadata": {},
   "outputs": [
    {
     "name": "stdout",
     "output_type": "stream",
     "text": [
      "Saved: data_dictionary.csv\n"
     ]
    }
   ],
   "source": [
    "def data_dictionary(data: pd.DataFrame) -> pd.DataFrame:\n",
    "    rows = []\n",
    "    for c in data.columns:\n",
    "        dtype = str(data[c].dtype)\n",
    "        nunique = data[c].nunique(dropna=True)\n",
    "        missing = data[c].isna().sum()\n",
    "        example = data[c].dropna().iloc[0] if data[c].notna().any() else None\n",
    "        rows.append({\"column\": c, \"dtype\": dtype, \"nunique\": nunique,\n",
    "                     \"missing\": missing, \"example_value\": example})\n",
    "    return pd.DataFrame(rows).sort_values(\"column\")\n",
    "\n",
    "dd = data_dictionary(df)\n",
    "dd.to_csv(os.path.join(REPORT_DIR, \"data_dictionary.csv\"), index=False)\n",
    "print(\"Saved: data_dictionary.csv\")"
   ]
  },
  {
   "cell_type": "code",
   "execution_count": 15,
   "id": "16980e28",
   "metadata": {},
   "outputs": [
    {
     "name": "stderr",
     "output_type": "stream",
     "text": [
      "100%|██████████| 12/12 [00:00<00:00, 347.17it/s]<00:00, 13.64it/s, Describe variable: co2_emissions_g_km_]   \n",
      "Summarize dataset: 100%|██████████| 85/85 [00:07<00:00, 11.32it/s, Completed]                                                               \n",
      "Generate report structure: 100%|██████████| 1/1 [00:01<00:00,  1.92s/it]\n",
      "Render HTML: 100%|██████████| 1/1 [00:01<00:00,  1.86s/it]\n",
      "Export report to file: 100%|██████████| 1/1 [00:00<00:00, 83.18it/s]"
     ]
    },
    {
     "name": "stdout",
     "output_type": "stream",
     "text": [
      "Profiling report saved: eda_report\\profile_report.html\n",
      "\n",
      "Done! Check the 'eda_report' folder for figures & summaries.\n"
     ]
    },
    {
     "name": "stderr",
     "output_type": "stream",
     "text": [
      "\n"
     ]
    }
   ],
   "source": [
    "from ydata_profiling import ProfileReport\n",
    "profile = ProfileReport(df, explorative=True, title=\"CO2 Emissions — Automated EDA\")\n",
    "html_path = os.path.join(REPORT_DIR, \"profile_report.html\")\n",
    "profile.to_file(html_path)\n",
    "print(f\"Profiling report saved: {html_path}\")\n",
    "\n",
    "\n",
    "print(\"\\nDone! Check the 'eda_report' folder for figures & summaries.\")"
   ]
  }
 ],
 "metadata": {
  "kernelspec": {
   "display_name": "venv",
   "language": "python",
   "name": "python3"
  },
  "language_info": {
   "codemirror_mode": {
    "name": "ipython",
    "version": 3
   },
   "file_extension": ".py",
   "mimetype": "text/x-python",
   "name": "python",
   "nbconvert_exporter": "python",
   "pygments_lexer": "ipython3",
   "version": "3.12.0"
  }
 },
 "nbformat": 4,
 "nbformat_minor": 5
}
